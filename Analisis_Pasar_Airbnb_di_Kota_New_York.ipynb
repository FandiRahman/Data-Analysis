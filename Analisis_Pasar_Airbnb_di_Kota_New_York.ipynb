{
  "nbformat": 4,
  "nbformat_minor": 0,
  "metadata": {
    "colab": {
      "provenance": [],
      "collapsed_sections": [
        "kpVXG2Z8Xod8",
        "0ptJALXLFy5R",
        "iqw_GbZmFzQm",
        "_mTYkMWFKayq"
      ]
    },
    "kernelspec": {
      "name": "python3",
      "display_name": "Python 3"
    },
    "language_info": {
      "name": "python"
    }
  },
  "cells": [
    {
      "cell_type": "markdown",
      "source": [
        "# Pendahuluan\n"
      ],
      "metadata": {
        "id": "Mbsq07H7FHWo"
      }
    },
    {
      "cell_type": "markdown",
      "source": [
        "## Latar Belakang\n",
        "\n",
        "Analisis Pasar Airbnb di Kota New York\n",
        "\n",
        "Selamat datang di Kota New York, salah satu destinasi paling populer di dunia. Terdapat banyak penawaran Airbnb di kota ini untuk memenuhi permintaan tinggi akan akomodasi sementara, baik untuk beberapa malam maupun beberapa bulan. Dalam analisis ini, kita akan mengeksplor lebih lanjut pasar Airbnb di New York dengan menggabungkan data dari berbagai jenis file, seperti .csv, .tsv, dan .xlsx.\n",
        "\n",
        "Mohon dicatat bahwa file CSV, TSV, dan Excel adalah tiga format umum untuk menyimpan data. Terdapat tiga file yang berisi data mengenai listing Airbnb pada tahun 2019:\n",
        "\n",
        "1. data/airbnb_price.csv\n",
        "    - listing_id: identifikasi unik untuk setiap listing\n",
        "    - price: harga sewa per malam dalam USD\n",
        "    - nbhood_full: nama lokasi dan lingkungan di mana listing tersebut berada\n",
        "2. data/airbnb_room_type.xlsx\n",
        "    - listing_id: identifikasi unik untuk setiap listing\n",
        "    - description: deskripsi listing\n",
        "    - room_type: Airbnb memiliki tiga jenis kamar: kamar bersama, kamar pribadi, dan seluruh rumah/apartemen\n",
        "3. data/airbnb_last_review.tsv\n",
        "    - listing_id: identifikasi unik untuk setiap listing\n",
        "    - host_name: nama tuan rumah dari listing\n",
        "    - last_review: tanggal terakhir kali listing tersebut direview\n",
        "\n"
      ],
      "metadata": {
        "id": "g8zmZZxKFJUb"
      }
    },
    {
      "cell_type": "markdown",
      "source": [
        "## Pertanyaan Bisnis\n",
        "Tujuan analisis ini adalah mengubah data yang tidak terstruktur menjadi format yang cocok untuk dianalisis dan menjawab pertanyaan kunci berikut:\n",
        "\n",
        "1. Bagaimana perbandingan harga rata-rata tertinggi dan terendah di 5 lokasi?\n",
        "2. Bagaimana perbandingan harga rata-rata listing Airbnb per bulan dengan pasar sewa swasta?\n",
        "3. Berapa jumlah iklan untuk kamar pribadi?\n",
        "4. Bagaimana perbandingan harga listing Airbnb di lima wilayah di NYC?\n",
        "\n",
        "Untuk menjawab pertanyaan-pertanyaan tersebut, berikut adalah langkah-langkah yang dapat diambil:"
      ],
      "metadata": {
        "id": "nI7CCrCXPNue"
      }
    },
    {
      "cell_type": "markdown",
      "source": [
        "# 1. Data Wrangling:"
      ],
      "metadata": {
        "id": "4Qdsb09gL4_k"
      }
    },
    {
      "cell_type": "markdown",
      "source": [
        "Tahapan yang akan dilakukan adalah:\n",
        "\n",
        "1. Persiapan\n",
        "2. Penilaian Data\n",
        "3. Pembersihan Data"
      ],
      "metadata": {
        "id": "NLPGs5qWGRFc"
      }
    },
    {
      "cell_type": "markdown",
      "source": [
        "## Persiapan"
      ],
      "metadata": {
        "id": "FNZx-g2OVp1n"
      }
    },
    {
      "cell_type": "code",
      "source": [
        "# Menyiapkan semua library yang dibutuhkan\n",
        "\n",
        "import numpy as np\n",
        "import pandas as pd\n",
        "import matplotlib.pyplot as plt\n",
        "import seaborn as sns"
      ],
      "metadata": {
        "id": "w-OBPLnYQzS0"
      },
      "execution_count": 1,
      "outputs": []
    },
    {
      "cell_type": "code",
      "source": [
        "# Memuat tabel df_price\n",
        "df_price = pd.read_csv(\"/content/drive/MyDrive/Air BNB New York Dataset/airbnb_price.csv\")\n",
        "print(df_price.head())"
      ],
      "metadata": {
        "id": "XPU0dvGxRbzI",
        "colab": {
          "base_uri": "https://localhost:8080/"
        },
        "outputId": "ab589e42-c238-4e95-f330-d5a413f01857"
      },
      "execution_count": 2,
      "outputs": [
        {
          "output_type": "stream",
          "name": "stdout",
          "text": [
            "   listing_id        price                nbhood_full\n",
            "0        2595  225 dollars         Manhattan, Midtown\n",
            "1        3831   89 dollars     Brooklyn, Clinton Hill\n",
            "2        5099  200 dollars     Manhattan, Murray Hill\n",
            "3        5178   79 dollars  Manhattan, Hell's Kitchen\n",
            "4        5238  150 dollars       Manhattan, Chinatown\n"
          ]
        }
      ]
    },
    {
      "cell_type": "code",
      "source": [
        "# Memuat tabel df_room_type\n",
        "df_room_type = pd.read_excel(\"/content/drive/MyDrive/Air BNB New York Dataset/airbnb_room_type.xlsx\")\n",
        "print(df_room_type.head())"
      ],
      "metadata": {
        "id": "6dbUoqN4RpSj",
        "colab": {
          "base_uri": "https://localhost:8080/"
        },
        "outputId": "5895cd93-635c-48bf-c14e-9ac2a51234e6"
      },
      "execution_count": 3,
      "outputs": [
        {
          "output_type": "stream",
          "name": "stdout",
          "text": [
            "   listing_id                                description        room_type\n",
            "0        2595                      Skylit Midtown Castle  Entire home/apt\n",
            "1        3831            Cozy Entire Floor of Brownstone  Entire home/apt\n",
            "2        5099  Large Cozy 1 BR Apartment In Midtown East  Entire home/apt\n",
            "3        5178            Large Furnished Room Near B'way     private room\n",
            "4        5238         Cute & Cozy Lower East Side 1 bdrm  Entire home/apt\n"
          ]
        }
      ]
    },
    {
      "cell_type": "code",
      "source": [
        "# Memuat tabel df_last_review\n",
        "df_last_review = pd.read_csv(\"/content/drive/MyDrive/Air BNB New York Dataset/airbnb_last_review.tsv\", delimiter='\\t')\n",
        "print(df_last_review.head())"
      ],
      "metadata": {
        "id": "GWL6-8lDRslp",
        "colab": {
          "base_uri": "https://localhost:8080/"
        },
        "outputId": "62bbf926-4ad9-43b8-d1c7-08bdd492f236"
      },
      "execution_count": 4,
      "outputs": [
        {
          "output_type": "stream",
          "name": "stdout",
          "text": [
            "   listing_id    host_name   last_review\n",
            "0        2595     Jennifer   May 21 2019\n",
            "1        3831  LisaRoxanne  July 05 2019\n",
            "2        5099        Chris  June 22 2019\n",
            "3        5178     Shunichi  June 24 2019\n",
            "4        5238          Ben  June 09 2019\n"
          ]
        }
      ]
    },
    {
      "cell_type": "markdown",
      "source": [
        "## Penilaian Data"
      ],
      "metadata": {
        "id": "AFWVoWRFVBR3"
      }
    },
    {
      "cell_type": "markdown",
      "source": [
        "### df_price"
      ],
      "metadata": {
        "id": "kpVXG2Z8Xod8"
      }
    },
    {
      "cell_type": "code",
      "source": [
        "# Menilai data df_price\n",
        "df_price.info()"
      ],
      "metadata": {
        "id": "24bMc1gCTZm1",
        "colab": {
          "base_uri": "https://localhost:8080/"
        },
        "outputId": "fe1d5329-d939-42e4-dcb3-a0e689d6775e"
      },
      "execution_count": 5,
      "outputs": [
        {
          "output_type": "stream",
          "name": "stdout",
          "text": [
            "<class 'pandas.core.frame.DataFrame'>\n",
            "RangeIndex: 25209 entries, 0 to 25208\n",
            "Data columns (total 3 columns):\n",
            " #   Column       Non-Null Count  Dtype \n",
            "---  ------       --------------  ----- \n",
            " 0   listing_id   25209 non-null  int64 \n",
            " 1   price        25209 non-null  object\n",
            " 2   nbhood_full  25209 non-null  object\n",
            "dtypes: int64(1), object(2)\n",
            "memory usage: 591.0+ KB\n"
          ]
        }
      ]
    },
    {
      "cell_type": "code",
      "source": [
        "# Menilai missing value\n",
        "df_price.isna().sum()"
      ],
      "metadata": {
        "id": "ZLeKa6SxWzVr",
        "colab": {
          "base_uri": "https://localhost:8080/"
        },
        "outputId": "df8babe3-40f7-4c6c-f49f-f5e0e44839cc"
      },
      "execution_count": 6,
      "outputs": [
        {
          "output_type": "execute_result",
          "data": {
            "text/plain": [
              "listing_id     0\n",
              "price          0\n",
              "nbhood_full    0\n",
              "dtype: int64"
            ]
          },
          "metadata": {},
          "execution_count": 6
        }
      ]
    },
    {
      "cell_type": "code",
      "source": [
        "# Menilai duplikasi data\n",
        "print(\"Jumlah duplikasi: \", df_price.duplicated().sum())"
      ],
      "metadata": {
        "id": "MOKjf47PW1G8",
        "colab": {
          "base_uri": "https://localhost:8080/"
        },
        "outputId": "d3c296a7-eff9-4381-9eb6-62b278f67c38"
      },
      "execution_count": 7,
      "outputs": [
        {
          "output_type": "stream",
          "name": "stdout",
          "text": [
            "Jumlah duplikasi:  0\n"
          ]
        }
      ]
    },
    {
      "cell_type": "code",
      "source": [
        "# Melihat ringkasan parameter statistik\n",
        "df_price.describe()"
      ],
      "metadata": {
        "id": "9tfYTolvWctz",
        "colab": {
          "base_uri": "https://localhost:8080/",
          "height": 0
        },
        "outputId": "96871220-2660-42ed-9ab9-ccc03d7546c3"
      },
      "execution_count": 8,
      "outputs": [
        {
          "output_type": "execute_result",
          "data": {
            "text/plain": [
              "         listing_id\n",
              "count  2.520900e+04\n",
              "mean   2.068922e+07\n",
              "std    1.102928e+07\n",
              "min    2.595000e+03\n",
              "25%    1.202273e+07\n",
              "50%    2.234391e+07\n",
              "75%    3.037669e+07\n",
              "max    3.645581e+07"
            ],
            "text/html": [
              "\n",
              "  <div id=\"df-063cd581-09d3-44ca-99a1-7d5f45c0f46c\" class=\"colab-df-container\">\n",
              "    <div>\n",
              "<style scoped>\n",
              "    .dataframe tbody tr th:only-of-type {\n",
              "        vertical-align: middle;\n",
              "    }\n",
              "\n",
              "    .dataframe tbody tr th {\n",
              "        vertical-align: top;\n",
              "    }\n",
              "\n",
              "    .dataframe thead th {\n",
              "        text-align: right;\n",
              "    }\n",
              "</style>\n",
              "<table border=\"1\" class=\"dataframe\">\n",
              "  <thead>\n",
              "    <tr style=\"text-align: right;\">\n",
              "      <th></th>\n",
              "      <th>listing_id</th>\n",
              "    </tr>\n",
              "  </thead>\n",
              "  <tbody>\n",
              "    <tr>\n",
              "      <th>count</th>\n",
              "      <td>2.520900e+04</td>\n",
              "    </tr>\n",
              "    <tr>\n",
              "      <th>mean</th>\n",
              "      <td>2.068922e+07</td>\n",
              "    </tr>\n",
              "    <tr>\n",
              "      <th>std</th>\n",
              "      <td>1.102928e+07</td>\n",
              "    </tr>\n",
              "    <tr>\n",
              "      <th>min</th>\n",
              "      <td>2.595000e+03</td>\n",
              "    </tr>\n",
              "    <tr>\n",
              "      <th>25%</th>\n",
              "      <td>1.202273e+07</td>\n",
              "    </tr>\n",
              "    <tr>\n",
              "      <th>50%</th>\n",
              "      <td>2.234391e+07</td>\n",
              "    </tr>\n",
              "    <tr>\n",
              "      <th>75%</th>\n",
              "      <td>3.037669e+07</td>\n",
              "    </tr>\n",
              "    <tr>\n",
              "      <th>max</th>\n",
              "      <td>3.645581e+07</td>\n",
              "    </tr>\n",
              "  </tbody>\n",
              "</table>\n",
              "</div>\n",
              "    <div class=\"colab-df-buttons\">\n",
              "\n",
              "  <div class=\"colab-df-container\">\n",
              "    <button class=\"colab-df-convert\" onclick=\"convertToInteractive('df-063cd581-09d3-44ca-99a1-7d5f45c0f46c')\"\n",
              "            title=\"Convert this dataframe to an interactive table.\"\n",
              "            style=\"display:none;\">\n",
              "\n",
              "  <svg xmlns=\"http://www.w3.org/2000/svg\" height=\"24px\" viewBox=\"0 -960 960 960\">\n",
              "    <path d=\"M120-120v-720h720v720H120Zm60-500h600v-160H180v160Zm220 220h160v-160H400v160Zm0 220h160v-160H400v160ZM180-400h160v-160H180v160Zm440 0h160v-160H620v160ZM180-180h160v-160H180v160Zm440 0h160v-160H620v160Z\"/>\n",
              "  </svg>\n",
              "    </button>\n",
              "\n",
              "  <style>\n",
              "    .colab-df-container {\n",
              "      display:flex;\n",
              "      gap: 12px;\n",
              "    }\n",
              "\n",
              "    .colab-df-convert {\n",
              "      background-color: #E8F0FE;\n",
              "      border: none;\n",
              "      border-radius: 50%;\n",
              "      cursor: pointer;\n",
              "      display: none;\n",
              "      fill: #1967D2;\n",
              "      height: 32px;\n",
              "      padding: 0 0 0 0;\n",
              "      width: 32px;\n",
              "    }\n",
              "\n",
              "    .colab-df-convert:hover {\n",
              "      background-color: #E2EBFA;\n",
              "      box-shadow: 0px 1px 2px rgba(60, 64, 67, 0.3), 0px 1px 3px 1px rgba(60, 64, 67, 0.15);\n",
              "      fill: #174EA6;\n",
              "    }\n",
              "\n",
              "    .colab-df-buttons div {\n",
              "      margin-bottom: 4px;\n",
              "    }\n",
              "\n",
              "    [theme=dark] .colab-df-convert {\n",
              "      background-color: #3B4455;\n",
              "      fill: #D2E3FC;\n",
              "    }\n",
              "\n",
              "    [theme=dark] .colab-df-convert:hover {\n",
              "      background-color: #434B5C;\n",
              "      box-shadow: 0px 1px 3px 1px rgba(0, 0, 0, 0.15);\n",
              "      filter: drop-shadow(0px 1px 2px rgba(0, 0, 0, 0.3));\n",
              "      fill: #FFFFFF;\n",
              "    }\n",
              "  </style>\n",
              "\n",
              "    <script>\n",
              "      const buttonEl =\n",
              "        document.querySelector('#df-063cd581-09d3-44ca-99a1-7d5f45c0f46c button.colab-df-convert');\n",
              "      buttonEl.style.display =\n",
              "        google.colab.kernel.accessAllowed ? 'block' : 'none';\n",
              "\n",
              "      async function convertToInteractive(key) {\n",
              "        const element = document.querySelector('#df-063cd581-09d3-44ca-99a1-7d5f45c0f46c');\n",
              "        const dataTable =\n",
              "          await google.colab.kernel.invokeFunction('convertToInteractive',\n",
              "                                                    [key], {});\n",
              "        if (!dataTable) return;\n",
              "\n",
              "        const docLinkHtml = 'Like what you see? Visit the ' +\n",
              "          '<a target=\"_blank\" href=https://colab.research.google.com/notebooks/data_table.ipynb>data table notebook</a>'\n",
              "          + ' to learn more about interactive tables.';\n",
              "        element.innerHTML = '';\n",
              "        dataTable['output_type'] = 'display_data';\n",
              "        await google.colab.output.renderOutput(dataTable, element);\n",
              "        const docLink = document.createElement('div');\n",
              "        docLink.innerHTML = docLinkHtml;\n",
              "        element.appendChild(docLink);\n",
              "      }\n",
              "    </script>\n",
              "  </div>\n",
              "\n",
              "\n",
              "<div id=\"df-453424ff-65b6-4dc5-b3e3-3d17aa6be071\">\n",
              "  <button class=\"colab-df-quickchart\" onclick=\"quickchart('df-453424ff-65b6-4dc5-b3e3-3d17aa6be071')\"\n",
              "            title=\"Suggest charts\"\n",
              "            style=\"display:none;\">\n",
              "\n",
              "<svg xmlns=\"http://www.w3.org/2000/svg\" height=\"24px\"viewBox=\"0 0 24 24\"\n",
              "     width=\"24px\">\n",
              "    <g>\n",
              "        <path d=\"M19 3H5c-1.1 0-2 .9-2 2v14c0 1.1.9 2 2 2h14c1.1 0 2-.9 2-2V5c0-1.1-.9-2-2-2zM9 17H7v-7h2v7zm4 0h-2V7h2v10zm4 0h-2v-4h2v4z\"/>\n",
              "    </g>\n",
              "</svg>\n",
              "  </button>\n",
              "\n",
              "<style>\n",
              "  .colab-df-quickchart {\n",
              "      --bg-color: #E8F0FE;\n",
              "      --fill-color: #1967D2;\n",
              "      --hover-bg-color: #E2EBFA;\n",
              "      --hover-fill-color: #174EA6;\n",
              "      --disabled-fill-color: #AAA;\n",
              "      --disabled-bg-color: #DDD;\n",
              "  }\n",
              "\n",
              "  [theme=dark] .colab-df-quickchart {\n",
              "      --bg-color: #3B4455;\n",
              "      --fill-color: #D2E3FC;\n",
              "      --hover-bg-color: #434B5C;\n",
              "      --hover-fill-color: #FFFFFF;\n",
              "      --disabled-bg-color: #3B4455;\n",
              "      --disabled-fill-color: #666;\n",
              "  }\n",
              "\n",
              "  .colab-df-quickchart {\n",
              "    background-color: var(--bg-color);\n",
              "    border: none;\n",
              "    border-radius: 50%;\n",
              "    cursor: pointer;\n",
              "    display: none;\n",
              "    fill: var(--fill-color);\n",
              "    height: 32px;\n",
              "    padding: 0;\n",
              "    width: 32px;\n",
              "  }\n",
              "\n",
              "  .colab-df-quickchart:hover {\n",
              "    background-color: var(--hover-bg-color);\n",
              "    box-shadow: 0 1px 2px rgba(60, 64, 67, 0.3), 0 1px 3px 1px rgba(60, 64, 67, 0.15);\n",
              "    fill: var(--button-hover-fill-color);\n",
              "  }\n",
              "\n",
              "  .colab-df-quickchart-complete:disabled,\n",
              "  .colab-df-quickchart-complete:disabled:hover {\n",
              "    background-color: var(--disabled-bg-color);\n",
              "    fill: var(--disabled-fill-color);\n",
              "    box-shadow: none;\n",
              "  }\n",
              "\n",
              "  .colab-df-spinner {\n",
              "    border: 2px solid var(--fill-color);\n",
              "    border-color: transparent;\n",
              "    border-bottom-color: var(--fill-color);\n",
              "    animation:\n",
              "      spin 1s steps(1) infinite;\n",
              "  }\n",
              "\n",
              "  @keyframes spin {\n",
              "    0% {\n",
              "      border-color: transparent;\n",
              "      border-bottom-color: var(--fill-color);\n",
              "      border-left-color: var(--fill-color);\n",
              "    }\n",
              "    20% {\n",
              "      border-color: transparent;\n",
              "      border-left-color: var(--fill-color);\n",
              "      border-top-color: var(--fill-color);\n",
              "    }\n",
              "    30% {\n",
              "      border-color: transparent;\n",
              "      border-left-color: var(--fill-color);\n",
              "      border-top-color: var(--fill-color);\n",
              "      border-right-color: var(--fill-color);\n",
              "    }\n",
              "    40% {\n",
              "      border-color: transparent;\n",
              "      border-right-color: var(--fill-color);\n",
              "      border-top-color: var(--fill-color);\n",
              "    }\n",
              "    60% {\n",
              "      border-color: transparent;\n",
              "      border-right-color: var(--fill-color);\n",
              "    }\n",
              "    80% {\n",
              "      border-color: transparent;\n",
              "      border-right-color: var(--fill-color);\n",
              "      border-bottom-color: var(--fill-color);\n",
              "    }\n",
              "    90% {\n",
              "      border-color: transparent;\n",
              "      border-bottom-color: var(--fill-color);\n",
              "    }\n",
              "  }\n",
              "</style>\n",
              "\n",
              "  <script>\n",
              "    async function quickchart(key) {\n",
              "      const quickchartButtonEl =\n",
              "        document.querySelector('#' + key + ' button');\n",
              "      quickchartButtonEl.disabled = true;  // To prevent multiple clicks.\n",
              "      quickchartButtonEl.classList.add('colab-df-spinner');\n",
              "      try {\n",
              "        const charts = await google.colab.kernel.invokeFunction(\n",
              "            'suggestCharts', [key], {});\n",
              "      } catch (error) {\n",
              "        console.error('Error during call to suggestCharts:', error);\n",
              "      }\n",
              "      quickchartButtonEl.classList.remove('colab-df-spinner');\n",
              "      quickchartButtonEl.classList.add('colab-df-quickchart-complete');\n",
              "    }\n",
              "    (() => {\n",
              "      let quickchartButtonEl =\n",
              "        document.querySelector('#df-453424ff-65b6-4dc5-b3e3-3d17aa6be071 button');\n",
              "      quickchartButtonEl.style.display =\n",
              "        google.colab.kernel.accessAllowed ? 'block' : 'none';\n",
              "    })();\n",
              "  </script>\n",
              "</div>\n",
              "    </div>\n",
              "  </div>\n"
            ]
          },
          "metadata": {},
          "execution_count": 8
        }
      ]
    },
    {
      "cell_type": "markdown",
      "source": [
        "### df_room_tyoe"
      ],
      "metadata": {
        "id": "oCZNDLTpXu_z"
      }
    },
    {
      "cell_type": "code",
      "source": [
        "# Menilai data df_room_type\n",
        "df_room_type.info()"
      ],
      "metadata": {
        "id": "VfuMSjNuUSsi",
        "colab": {
          "base_uri": "https://localhost:8080/"
        },
        "outputId": "126f52f1-c5d6-4be5-8a8f-dcc0326b7146"
      },
      "execution_count": 9,
      "outputs": [
        {
          "output_type": "stream",
          "name": "stdout",
          "text": [
            "<class 'pandas.core.frame.DataFrame'>\n",
            "RangeIndex: 25209 entries, 0 to 25208\n",
            "Data columns (total 3 columns):\n",
            " #   Column       Non-Null Count  Dtype \n",
            "---  ------       --------------  ----- \n",
            " 0   listing_id   25209 non-null  int64 \n",
            " 1   description  25199 non-null  object\n",
            " 2   room_type    25209 non-null  object\n",
            "dtypes: int64(1), object(2)\n",
            "memory usage: 591.0+ KB\n"
          ]
        }
      ]
    },
    {
      "cell_type": "code",
      "source": [
        "# Menilai missing value\n",
        "df_room_type.isna().sum()"
      ],
      "metadata": {
        "id": "lv-oo234USe3",
        "colab": {
          "base_uri": "https://localhost:8080/"
        },
        "outputId": "d46bb45b-506f-438e-f0be-86d112d2d1da"
      },
      "execution_count": 10,
      "outputs": [
        {
          "output_type": "execute_result",
          "data": {
            "text/plain": [
              "listing_id      0\n",
              "description    10\n",
              "room_type       0\n",
              "dtype: int64"
            ]
          },
          "metadata": {},
          "execution_count": 10
        }
      ]
    },
    {
      "cell_type": "code",
      "source": [
        "# Menilai duplikasi data\n",
        "print(\"Jumlah duplikasi: \", df_room_type.duplicated().sum())"
      ],
      "metadata": {
        "id": "-RkgY23FX4hL",
        "colab": {
          "base_uri": "https://localhost:8080/"
        },
        "outputId": "4337dea2-90d5-4dbf-a642-6aca66e2e5ab"
      },
      "execution_count": 11,
      "outputs": [
        {
          "output_type": "stream",
          "name": "stdout",
          "text": [
            "Jumlah duplikasi:  0\n"
          ]
        }
      ]
    },
    {
      "cell_type": "code",
      "source": [
        "# Melihat ringkasan parameter statistik\n",
        "df_room_type.describe()"
      ],
      "metadata": {
        "id": "Qqz9KFHgX9rn",
        "colab": {
          "base_uri": "https://localhost:8080/",
          "height": 0
        },
        "outputId": "120f4789-5f05-40f6-d702-b7d7b553559c"
      },
      "execution_count": 12,
      "outputs": [
        {
          "output_type": "execute_result",
          "data": {
            "text/plain": [
              "         listing_id\n",
              "count  2.520900e+04\n",
              "mean   2.068922e+07\n",
              "std    1.102928e+07\n",
              "min    2.595000e+03\n",
              "25%    1.202273e+07\n",
              "50%    2.234391e+07\n",
              "75%    3.037669e+07\n",
              "max    3.645581e+07"
            ],
            "text/html": [
              "\n",
              "  <div id=\"df-881e771e-05a5-4a64-94e7-5ebc6bfa161c\" class=\"colab-df-container\">\n",
              "    <div>\n",
              "<style scoped>\n",
              "    .dataframe tbody tr th:only-of-type {\n",
              "        vertical-align: middle;\n",
              "    }\n",
              "\n",
              "    .dataframe tbody tr th {\n",
              "        vertical-align: top;\n",
              "    }\n",
              "\n",
              "    .dataframe thead th {\n",
              "        text-align: right;\n",
              "    }\n",
              "</style>\n",
              "<table border=\"1\" class=\"dataframe\">\n",
              "  <thead>\n",
              "    <tr style=\"text-align: right;\">\n",
              "      <th></th>\n",
              "      <th>listing_id</th>\n",
              "    </tr>\n",
              "  </thead>\n",
              "  <tbody>\n",
              "    <tr>\n",
              "      <th>count</th>\n",
              "      <td>2.520900e+04</td>\n",
              "    </tr>\n",
              "    <tr>\n",
              "      <th>mean</th>\n",
              "      <td>2.068922e+07</td>\n",
              "    </tr>\n",
              "    <tr>\n",
              "      <th>std</th>\n",
              "      <td>1.102928e+07</td>\n",
              "    </tr>\n",
              "    <tr>\n",
              "      <th>min</th>\n",
              "      <td>2.595000e+03</td>\n",
              "    </tr>\n",
              "    <tr>\n",
              "      <th>25%</th>\n",
              "      <td>1.202273e+07</td>\n",
              "    </tr>\n",
              "    <tr>\n",
              "      <th>50%</th>\n",
              "      <td>2.234391e+07</td>\n",
              "    </tr>\n",
              "    <tr>\n",
              "      <th>75%</th>\n",
              "      <td>3.037669e+07</td>\n",
              "    </tr>\n",
              "    <tr>\n",
              "      <th>max</th>\n",
              "      <td>3.645581e+07</td>\n",
              "    </tr>\n",
              "  </tbody>\n",
              "</table>\n",
              "</div>\n",
              "    <div class=\"colab-df-buttons\">\n",
              "\n",
              "  <div class=\"colab-df-container\">\n",
              "    <button class=\"colab-df-convert\" onclick=\"convertToInteractive('df-881e771e-05a5-4a64-94e7-5ebc6bfa161c')\"\n",
              "            title=\"Convert this dataframe to an interactive table.\"\n",
              "            style=\"display:none;\">\n",
              "\n",
              "  <svg xmlns=\"http://www.w3.org/2000/svg\" height=\"24px\" viewBox=\"0 -960 960 960\">\n",
              "    <path d=\"M120-120v-720h720v720H120Zm60-500h600v-160H180v160Zm220 220h160v-160H400v160Zm0 220h160v-160H400v160ZM180-400h160v-160H180v160Zm440 0h160v-160H620v160ZM180-180h160v-160H180v160Zm440 0h160v-160H620v160Z\"/>\n",
              "  </svg>\n",
              "    </button>\n",
              "\n",
              "  <style>\n",
              "    .colab-df-container {\n",
              "      display:flex;\n",
              "      gap: 12px;\n",
              "    }\n",
              "\n",
              "    .colab-df-convert {\n",
              "      background-color: #E8F0FE;\n",
              "      border: none;\n",
              "      border-radius: 50%;\n",
              "      cursor: pointer;\n",
              "      display: none;\n",
              "      fill: #1967D2;\n",
              "      height: 32px;\n",
              "      padding: 0 0 0 0;\n",
              "      width: 32px;\n",
              "    }\n",
              "\n",
              "    .colab-df-convert:hover {\n",
              "      background-color: #E2EBFA;\n",
              "      box-shadow: 0px 1px 2px rgba(60, 64, 67, 0.3), 0px 1px 3px 1px rgba(60, 64, 67, 0.15);\n",
              "      fill: #174EA6;\n",
              "    }\n",
              "\n",
              "    .colab-df-buttons div {\n",
              "      margin-bottom: 4px;\n",
              "    }\n",
              "\n",
              "    [theme=dark] .colab-df-convert {\n",
              "      background-color: #3B4455;\n",
              "      fill: #D2E3FC;\n",
              "    }\n",
              "\n",
              "    [theme=dark] .colab-df-convert:hover {\n",
              "      background-color: #434B5C;\n",
              "      box-shadow: 0px 1px 3px 1px rgba(0, 0, 0, 0.15);\n",
              "      filter: drop-shadow(0px 1px 2px rgba(0, 0, 0, 0.3));\n",
              "      fill: #FFFFFF;\n",
              "    }\n",
              "  </style>\n",
              "\n",
              "    <script>\n",
              "      const buttonEl =\n",
              "        document.querySelector('#df-881e771e-05a5-4a64-94e7-5ebc6bfa161c button.colab-df-convert');\n",
              "      buttonEl.style.display =\n",
              "        google.colab.kernel.accessAllowed ? 'block' : 'none';\n",
              "\n",
              "      async function convertToInteractive(key) {\n",
              "        const element = document.querySelector('#df-881e771e-05a5-4a64-94e7-5ebc6bfa161c');\n",
              "        const dataTable =\n",
              "          await google.colab.kernel.invokeFunction('convertToInteractive',\n",
              "                                                    [key], {});\n",
              "        if (!dataTable) return;\n",
              "\n",
              "        const docLinkHtml = 'Like what you see? Visit the ' +\n",
              "          '<a target=\"_blank\" href=https://colab.research.google.com/notebooks/data_table.ipynb>data table notebook</a>'\n",
              "          + ' to learn more about interactive tables.';\n",
              "        element.innerHTML = '';\n",
              "        dataTable['output_type'] = 'display_data';\n",
              "        await google.colab.output.renderOutput(dataTable, element);\n",
              "        const docLink = document.createElement('div');\n",
              "        docLink.innerHTML = docLinkHtml;\n",
              "        element.appendChild(docLink);\n",
              "      }\n",
              "    </script>\n",
              "  </div>\n",
              "\n",
              "\n",
              "<div id=\"df-9bebf781-bfb4-42ab-b81c-7097c629d135\">\n",
              "  <button class=\"colab-df-quickchart\" onclick=\"quickchart('df-9bebf781-bfb4-42ab-b81c-7097c629d135')\"\n",
              "            title=\"Suggest charts\"\n",
              "            style=\"display:none;\">\n",
              "\n",
              "<svg xmlns=\"http://www.w3.org/2000/svg\" height=\"24px\"viewBox=\"0 0 24 24\"\n",
              "     width=\"24px\">\n",
              "    <g>\n",
              "        <path d=\"M19 3H5c-1.1 0-2 .9-2 2v14c0 1.1.9 2 2 2h14c1.1 0 2-.9 2-2V5c0-1.1-.9-2-2-2zM9 17H7v-7h2v7zm4 0h-2V7h2v10zm4 0h-2v-4h2v4z\"/>\n",
              "    </g>\n",
              "</svg>\n",
              "  </button>\n",
              "\n",
              "<style>\n",
              "  .colab-df-quickchart {\n",
              "      --bg-color: #E8F0FE;\n",
              "      --fill-color: #1967D2;\n",
              "      --hover-bg-color: #E2EBFA;\n",
              "      --hover-fill-color: #174EA6;\n",
              "      --disabled-fill-color: #AAA;\n",
              "      --disabled-bg-color: #DDD;\n",
              "  }\n",
              "\n",
              "  [theme=dark] .colab-df-quickchart {\n",
              "      --bg-color: #3B4455;\n",
              "      --fill-color: #D2E3FC;\n",
              "      --hover-bg-color: #434B5C;\n",
              "      --hover-fill-color: #FFFFFF;\n",
              "      --disabled-bg-color: #3B4455;\n",
              "      --disabled-fill-color: #666;\n",
              "  }\n",
              "\n",
              "  .colab-df-quickchart {\n",
              "    background-color: var(--bg-color);\n",
              "    border: none;\n",
              "    border-radius: 50%;\n",
              "    cursor: pointer;\n",
              "    display: none;\n",
              "    fill: var(--fill-color);\n",
              "    height: 32px;\n",
              "    padding: 0;\n",
              "    width: 32px;\n",
              "  }\n",
              "\n",
              "  .colab-df-quickchart:hover {\n",
              "    background-color: var(--hover-bg-color);\n",
              "    box-shadow: 0 1px 2px rgba(60, 64, 67, 0.3), 0 1px 3px 1px rgba(60, 64, 67, 0.15);\n",
              "    fill: var(--button-hover-fill-color);\n",
              "  }\n",
              "\n",
              "  .colab-df-quickchart-complete:disabled,\n",
              "  .colab-df-quickchart-complete:disabled:hover {\n",
              "    background-color: var(--disabled-bg-color);\n",
              "    fill: var(--disabled-fill-color);\n",
              "    box-shadow: none;\n",
              "  }\n",
              "\n",
              "  .colab-df-spinner {\n",
              "    border: 2px solid var(--fill-color);\n",
              "    border-color: transparent;\n",
              "    border-bottom-color: var(--fill-color);\n",
              "    animation:\n",
              "      spin 1s steps(1) infinite;\n",
              "  }\n",
              "\n",
              "  @keyframes spin {\n",
              "    0% {\n",
              "      border-color: transparent;\n",
              "      border-bottom-color: var(--fill-color);\n",
              "      border-left-color: var(--fill-color);\n",
              "    }\n",
              "    20% {\n",
              "      border-color: transparent;\n",
              "      border-left-color: var(--fill-color);\n",
              "      border-top-color: var(--fill-color);\n",
              "    }\n",
              "    30% {\n",
              "      border-color: transparent;\n",
              "      border-left-color: var(--fill-color);\n",
              "      border-top-color: var(--fill-color);\n",
              "      border-right-color: var(--fill-color);\n",
              "    }\n",
              "    40% {\n",
              "      border-color: transparent;\n",
              "      border-right-color: var(--fill-color);\n",
              "      border-top-color: var(--fill-color);\n",
              "    }\n",
              "    60% {\n",
              "      border-color: transparent;\n",
              "      border-right-color: var(--fill-color);\n",
              "    }\n",
              "    80% {\n",
              "      border-color: transparent;\n",
              "      border-right-color: var(--fill-color);\n",
              "      border-bottom-color: var(--fill-color);\n",
              "    }\n",
              "    90% {\n",
              "      border-color: transparent;\n",
              "      border-bottom-color: var(--fill-color);\n",
              "    }\n",
              "  }\n",
              "</style>\n",
              "\n",
              "  <script>\n",
              "    async function quickchart(key) {\n",
              "      const quickchartButtonEl =\n",
              "        document.querySelector('#' + key + ' button');\n",
              "      quickchartButtonEl.disabled = true;  // To prevent multiple clicks.\n",
              "      quickchartButtonEl.classList.add('colab-df-spinner');\n",
              "      try {\n",
              "        const charts = await google.colab.kernel.invokeFunction(\n",
              "            'suggestCharts', [key], {});\n",
              "      } catch (error) {\n",
              "        console.error('Error during call to suggestCharts:', error);\n",
              "      }\n",
              "      quickchartButtonEl.classList.remove('colab-df-spinner');\n",
              "      quickchartButtonEl.classList.add('colab-df-quickchart-complete');\n",
              "    }\n",
              "    (() => {\n",
              "      let quickchartButtonEl =\n",
              "        document.querySelector('#df-9bebf781-bfb4-42ab-b81c-7097c629d135 button');\n",
              "      quickchartButtonEl.style.display =\n",
              "        google.colab.kernel.accessAllowed ? 'block' : 'none';\n",
              "    })();\n",
              "  </script>\n",
              "</div>\n",
              "    </div>\n",
              "  </div>\n"
            ]
          },
          "metadata": {},
          "execution_count": 12
        }
      ]
    },
    {
      "cell_type": "markdown",
      "source": [
        "### df_last_review"
      ],
      "metadata": {
        "id": "Sl4PpbicYIX0"
      }
    },
    {
      "cell_type": "code",
      "source": [
        "# Menilai data df_room_type\n",
        "df_last_review.info()"
      ],
      "metadata": {
        "id": "f8gSHtlEYQCL",
        "colab": {
          "base_uri": "https://localhost:8080/"
        },
        "outputId": "f5aff870-04c9-410e-9586-ee65e7f853db"
      },
      "execution_count": 13,
      "outputs": [
        {
          "output_type": "stream",
          "name": "stdout",
          "text": [
            "<class 'pandas.core.frame.DataFrame'>\n",
            "RangeIndex: 25209 entries, 0 to 25208\n",
            "Data columns (total 3 columns):\n",
            " #   Column       Non-Null Count  Dtype \n",
            "---  ------       --------------  ----- \n",
            " 0   listing_id   25209 non-null  int64 \n",
            " 1   host_name    25201 non-null  object\n",
            " 2   last_review  25209 non-null  object\n",
            "dtypes: int64(1), object(2)\n",
            "memory usage: 591.0+ KB\n"
          ]
        }
      ]
    },
    {
      "cell_type": "code",
      "source": [
        "# Menilai missing value\n",
        "df_last_review.isna().sum()"
      ],
      "metadata": {
        "id": "xb9QiHR8YUXs",
        "colab": {
          "base_uri": "https://localhost:8080/"
        },
        "outputId": "b1856950-3518-4083-880f-29662b1f96e6"
      },
      "execution_count": 14,
      "outputs": [
        {
          "output_type": "execute_result",
          "data": {
            "text/plain": [
              "listing_id     0\n",
              "host_name      8\n",
              "last_review    0\n",
              "dtype: int64"
            ]
          },
          "metadata": {},
          "execution_count": 14
        }
      ]
    },
    {
      "cell_type": "code",
      "source": [
        "# Menilai duplikasi data\n",
        "print(\"Jumlah duplikasi: \", df_last_review.duplicated().sum())"
      ],
      "metadata": {
        "id": "-hZkBvG_YYu1",
        "colab": {
          "base_uri": "https://localhost:8080/"
        },
        "outputId": "7f7ddad4-91a4-4582-b290-c6fd7cb446ec"
      },
      "execution_count": 15,
      "outputs": [
        {
          "output_type": "stream",
          "name": "stdout",
          "text": [
            "Jumlah duplikasi:  0\n"
          ]
        }
      ]
    },
    {
      "cell_type": "code",
      "source": [
        "# Melihat ringkasan parameter statistik\n",
        "df_last_review.describe()"
      ],
      "metadata": {
        "id": "1_EwjndCYajP",
        "colab": {
          "base_uri": "https://localhost:8080/",
          "height": 300
        },
        "outputId": "5f1dcf35-27bb-4083-b881-06c9a281972d"
      },
      "execution_count": 16,
      "outputs": [
        {
          "output_type": "execute_result",
          "data": {
            "text/plain": [
              "         listing_id\n",
              "count  2.520900e+04\n",
              "mean   2.068922e+07\n",
              "std    1.102928e+07\n",
              "min    2.595000e+03\n",
              "25%    1.202273e+07\n",
              "50%    2.234391e+07\n",
              "75%    3.037669e+07\n",
              "max    3.645581e+07"
            ],
            "text/html": [
              "\n",
              "  <div id=\"df-3bf94f55-1d72-43f8-a13b-706c1f5d8b84\" class=\"colab-df-container\">\n",
              "    <div>\n",
              "<style scoped>\n",
              "    .dataframe tbody tr th:only-of-type {\n",
              "        vertical-align: middle;\n",
              "    }\n",
              "\n",
              "    .dataframe tbody tr th {\n",
              "        vertical-align: top;\n",
              "    }\n",
              "\n",
              "    .dataframe thead th {\n",
              "        text-align: right;\n",
              "    }\n",
              "</style>\n",
              "<table border=\"1\" class=\"dataframe\">\n",
              "  <thead>\n",
              "    <tr style=\"text-align: right;\">\n",
              "      <th></th>\n",
              "      <th>listing_id</th>\n",
              "    </tr>\n",
              "  </thead>\n",
              "  <tbody>\n",
              "    <tr>\n",
              "      <th>count</th>\n",
              "      <td>2.520900e+04</td>\n",
              "    </tr>\n",
              "    <tr>\n",
              "      <th>mean</th>\n",
              "      <td>2.068922e+07</td>\n",
              "    </tr>\n",
              "    <tr>\n",
              "      <th>std</th>\n",
              "      <td>1.102928e+07</td>\n",
              "    </tr>\n",
              "    <tr>\n",
              "      <th>min</th>\n",
              "      <td>2.595000e+03</td>\n",
              "    </tr>\n",
              "    <tr>\n",
              "      <th>25%</th>\n",
              "      <td>1.202273e+07</td>\n",
              "    </tr>\n",
              "    <tr>\n",
              "      <th>50%</th>\n",
              "      <td>2.234391e+07</td>\n",
              "    </tr>\n",
              "    <tr>\n",
              "      <th>75%</th>\n",
              "      <td>3.037669e+07</td>\n",
              "    </tr>\n",
              "    <tr>\n",
              "      <th>max</th>\n",
              "      <td>3.645581e+07</td>\n",
              "    </tr>\n",
              "  </tbody>\n",
              "</table>\n",
              "</div>\n",
              "    <div class=\"colab-df-buttons\">\n",
              "\n",
              "  <div class=\"colab-df-container\">\n",
              "    <button class=\"colab-df-convert\" onclick=\"convertToInteractive('df-3bf94f55-1d72-43f8-a13b-706c1f5d8b84')\"\n",
              "            title=\"Convert this dataframe to an interactive table.\"\n",
              "            style=\"display:none;\">\n",
              "\n",
              "  <svg xmlns=\"http://www.w3.org/2000/svg\" height=\"24px\" viewBox=\"0 -960 960 960\">\n",
              "    <path d=\"M120-120v-720h720v720H120Zm60-500h600v-160H180v160Zm220 220h160v-160H400v160Zm0 220h160v-160H400v160ZM180-400h160v-160H180v160Zm440 0h160v-160H620v160ZM180-180h160v-160H180v160Zm440 0h160v-160H620v160Z\"/>\n",
              "  </svg>\n",
              "    </button>\n",
              "\n",
              "  <style>\n",
              "    .colab-df-container {\n",
              "      display:flex;\n",
              "      gap: 12px;\n",
              "    }\n",
              "\n",
              "    .colab-df-convert {\n",
              "      background-color: #E8F0FE;\n",
              "      border: none;\n",
              "      border-radius: 50%;\n",
              "      cursor: pointer;\n",
              "      display: none;\n",
              "      fill: #1967D2;\n",
              "      height: 32px;\n",
              "      padding: 0 0 0 0;\n",
              "      width: 32px;\n",
              "    }\n",
              "\n",
              "    .colab-df-convert:hover {\n",
              "      background-color: #E2EBFA;\n",
              "      box-shadow: 0px 1px 2px rgba(60, 64, 67, 0.3), 0px 1px 3px 1px rgba(60, 64, 67, 0.15);\n",
              "      fill: #174EA6;\n",
              "    }\n",
              "\n",
              "    .colab-df-buttons div {\n",
              "      margin-bottom: 4px;\n",
              "    }\n",
              "\n",
              "    [theme=dark] .colab-df-convert {\n",
              "      background-color: #3B4455;\n",
              "      fill: #D2E3FC;\n",
              "    }\n",
              "\n",
              "    [theme=dark] .colab-df-convert:hover {\n",
              "      background-color: #434B5C;\n",
              "      box-shadow: 0px 1px 3px 1px rgba(0, 0, 0, 0.15);\n",
              "      filter: drop-shadow(0px 1px 2px rgba(0, 0, 0, 0.3));\n",
              "      fill: #FFFFFF;\n",
              "    }\n",
              "  </style>\n",
              "\n",
              "    <script>\n",
              "      const buttonEl =\n",
              "        document.querySelector('#df-3bf94f55-1d72-43f8-a13b-706c1f5d8b84 button.colab-df-convert');\n",
              "      buttonEl.style.display =\n",
              "        google.colab.kernel.accessAllowed ? 'block' : 'none';\n",
              "\n",
              "      async function convertToInteractive(key) {\n",
              "        const element = document.querySelector('#df-3bf94f55-1d72-43f8-a13b-706c1f5d8b84');\n",
              "        const dataTable =\n",
              "          await google.colab.kernel.invokeFunction('convertToInteractive',\n",
              "                                                    [key], {});\n",
              "        if (!dataTable) return;\n",
              "\n",
              "        const docLinkHtml = 'Like what you see? Visit the ' +\n",
              "          '<a target=\"_blank\" href=https://colab.research.google.com/notebooks/data_table.ipynb>data table notebook</a>'\n",
              "          + ' to learn more about interactive tables.';\n",
              "        element.innerHTML = '';\n",
              "        dataTable['output_type'] = 'display_data';\n",
              "        await google.colab.output.renderOutput(dataTable, element);\n",
              "        const docLink = document.createElement('div');\n",
              "        docLink.innerHTML = docLinkHtml;\n",
              "        element.appendChild(docLink);\n",
              "      }\n",
              "    </script>\n",
              "  </div>\n",
              "\n",
              "\n",
              "<div id=\"df-dbb26c7b-a2d0-46a4-a811-1d1bdc8f3d59\">\n",
              "  <button class=\"colab-df-quickchart\" onclick=\"quickchart('df-dbb26c7b-a2d0-46a4-a811-1d1bdc8f3d59')\"\n",
              "            title=\"Suggest charts\"\n",
              "            style=\"display:none;\">\n",
              "\n",
              "<svg xmlns=\"http://www.w3.org/2000/svg\" height=\"24px\"viewBox=\"0 0 24 24\"\n",
              "     width=\"24px\">\n",
              "    <g>\n",
              "        <path d=\"M19 3H5c-1.1 0-2 .9-2 2v14c0 1.1.9 2 2 2h14c1.1 0 2-.9 2-2V5c0-1.1-.9-2-2-2zM9 17H7v-7h2v7zm4 0h-2V7h2v10zm4 0h-2v-4h2v4z\"/>\n",
              "    </g>\n",
              "</svg>\n",
              "  </button>\n",
              "\n",
              "<style>\n",
              "  .colab-df-quickchart {\n",
              "      --bg-color: #E8F0FE;\n",
              "      --fill-color: #1967D2;\n",
              "      --hover-bg-color: #E2EBFA;\n",
              "      --hover-fill-color: #174EA6;\n",
              "      --disabled-fill-color: #AAA;\n",
              "      --disabled-bg-color: #DDD;\n",
              "  }\n",
              "\n",
              "  [theme=dark] .colab-df-quickchart {\n",
              "      --bg-color: #3B4455;\n",
              "      --fill-color: #D2E3FC;\n",
              "      --hover-bg-color: #434B5C;\n",
              "      --hover-fill-color: #FFFFFF;\n",
              "      --disabled-bg-color: #3B4455;\n",
              "      --disabled-fill-color: #666;\n",
              "  }\n",
              "\n",
              "  .colab-df-quickchart {\n",
              "    background-color: var(--bg-color);\n",
              "    border: none;\n",
              "    border-radius: 50%;\n",
              "    cursor: pointer;\n",
              "    display: none;\n",
              "    fill: var(--fill-color);\n",
              "    height: 32px;\n",
              "    padding: 0;\n",
              "    width: 32px;\n",
              "  }\n",
              "\n",
              "  .colab-df-quickchart:hover {\n",
              "    background-color: var(--hover-bg-color);\n",
              "    box-shadow: 0 1px 2px rgba(60, 64, 67, 0.3), 0 1px 3px 1px rgba(60, 64, 67, 0.15);\n",
              "    fill: var(--button-hover-fill-color);\n",
              "  }\n",
              "\n",
              "  .colab-df-quickchart-complete:disabled,\n",
              "  .colab-df-quickchart-complete:disabled:hover {\n",
              "    background-color: var(--disabled-bg-color);\n",
              "    fill: var(--disabled-fill-color);\n",
              "    box-shadow: none;\n",
              "  }\n",
              "\n",
              "  .colab-df-spinner {\n",
              "    border: 2px solid var(--fill-color);\n",
              "    border-color: transparent;\n",
              "    border-bottom-color: var(--fill-color);\n",
              "    animation:\n",
              "      spin 1s steps(1) infinite;\n",
              "  }\n",
              "\n",
              "  @keyframes spin {\n",
              "    0% {\n",
              "      border-color: transparent;\n",
              "      border-bottom-color: var(--fill-color);\n",
              "      border-left-color: var(--fill-color);\n",
              "    }\n",
              "    20% {\n",
              "      border-color: transparent;\n",
              "      border-left-color: var(--fill-color);\n",
              "      border-top-color: var(--fill-color);\n",
              "    }\n",
              "    30% {\n",
              "      border-color: transparent;\n",
              "      border-left-color: var(--fill-color);\n",
              "      border-top-color: var(--fill-color);\n",
              "      border-right-color: var(--fill-color);\n",
              "    }\n",
              "    40% {\n",
              "      border-color: transparent;\n",
              "      border-right-color: var(--fill-color);\n",
              "      border-top-color: var(--fill-color);\n",
              "    }\n",
              "    60% {\n",
              "      border-color: transparent;\n",
              "      border-right-color: var(--fill-color);\n",
              "    }\n",
              "    80% {\n",
              "      border-color: transparent;\n",
              "      border-right-color: var(--fill-color);\n",
              "      border-bottom-color: var(--fill-color);\n",
              "    }\n",
              "    90% {\n",
              "      border-color: transparent;\n",
              "      border-bottom-color: var(--fill-color);\n",
              "    }\n",
              "  }\n",
              "</style>\n",
              "\n",
              "  <script>\n",
              "    async function quickchart(key) {\n",
              "      const quickchartButtonEl =\n",
              "        document.querySelector('#' + key + ' button');\n",
              "      quickchartButtonEl.disabled = true;  // To prevent multiple clicks.\n",
              "      quickchartButtonEl.classList.add('colab-df-spinner');\n",
              "      try {\n",
              "        const charts = await google.colab.kernel.invokeFunction(\n",
              "            'suggestCharts', [key], {});\n",
              "      } catch (error) {\n",
              "        console.error('Error during call to suggestCharts:', error);\n",
              "      }\n",
              "      quickchartButtonEl.classList.remove('colab-df-spinner');\n",
              "      quickchartButtonEl.classList.add('colab-df-quickchart-complete');\n",
              "    }\n",
              "    (() => {\n",
              "      let quickchartButtonEl =\n",
              "        document.querySelector('#df-dbb26c7b-a2d0-46a4-a811-1d1bdc8f3d59 button');\n",
              "      quickchartButtonEl.style.display =\n",
              "        google.colab.kernel.accessAllowed ? 'block' : 'none';\n",
              "    })();\n",
              "  </script>\n",
              "</div>\n",
              "    </div>\n",
              "  </div>\n"
            ]
          },
          "metadata": {},
          "execution_count": 16
        }
      ]
    },
    {
      "cell_type": "markdown",
      "source": [
        "Dari tahapan yang dilakukan maka dapat terlihat beberapa masalah antara lain:\n",
        "- merubah type data pada df_price kolom price berupa type object menjadi type float\n",
        "- terdapat 10 missing value pada df_room_type kolom description yang memuat deskripsi listing\n",
        "- terdapaty 8 missing value pada df_last_review kolom host_name yang memuat nama tuan rumah dari listing"
      ],
      "metadata": {
        "id": "IBJ8DO3KZtxm"
      }
    },
    {
      "cell_type": "markdown",
      "source": [
        "## Data Cleaning"
      ],
      "metadata": {
        "id": "6XwpZPH9afz3"
      }
    },
    {
      "cell_type": "code",
      "source": [
        "# merubah type data pada df_price kolom price berupa type object menjadi type float\n",
        "\n",
        "# Konversi kolom price ke dalam tipe data string\n",
        "df_price['price'] = df_price['price'].astype(str)\n",
        "# Membersihkan dan mengonversi kolom price\n",
        "df_price['price'] = df_price['price'].str.replace(' dollars', '').astype(float)\n",
        "# Menampilkan DataFrame setelah perubahan\n",
        "print(df_price.head())\n",
        "print(df_price.info())"
      ],
      "metadata": {
        "id": "yPiAKeITa3ZX",
        "colab": {
          "base_uri": "https://localhost:8080/"
        },
        "outputId": "041a3d6e-582d-45c8-9dee-2c08fee1b55b"
      },
      "execution_count": 17,
      "outputs": [
        {
          "output_type": "stream",
          "name": "stdout",
          "text": [
            "   listing_id  price                nbhood_full\n",
            "0        2595  225.0         Manhattan, Midtown\n",
            "1        3831   89.0     Brooklyn, Clinton Hill\n",
            "2        5099  200.0     Manhattan, Murray Hill\n",
            "3        5178   79.0  Manhattan, Hell's Kitchen\n",
            "4        5238  150.0       Manhattan, Chinatown\n",
            "<class 'pandas.core.frame.DataFrame'>\n",
            "RangeIndex: 25209 entries, 0 to 25208\n",
            "Data columns (total 3 columns):\n",
            " #   Column       Non-Null Count  Dtype  \n",
            "---  ------       --------------  -----  \n",
            " 0   listing_id   25209 non-null  int64  \n",
            " 1   price        25209 non-null  float64\n",
            " 2   nbhood_full  25209 non-null  object \n",
            "dtypes: float64(1), int64(1), object(1)\n",
            "memory usage: 591.0+ KB\n",
            "None\n"
          ]
        }
      ]
    },
    {
      "cell_type": "code",
      "source": [
        "# menangani missing value pada df_room_type kolom description yang memuat deskripsi listing\n",
        "\n",
        "# Menggantikan nilai yang hilang dengan nilai default (misalnya, 'No description available')\n",
        "df_room_type['description'].fillna('No description available', inplace=True)\n",
        "# Menampilkan DataFrame setelah penggantian nilai yang hilang\n",
        "print(df_room_type)\n",
        "# Menampilkan informasi DataFrame setelah penggantian nilai yang hilang\n",
        "print(df_room_type.info())\n",
        "df_room_type.isna().sum()"
      ],
      "metadata": {
        "id": "x0j_vxvHg0jq",
        "colab": {
          "base_uri": "https://localhost:8080/"
        },
        "outputId": "613022ab-e1e8-43b3-9fbb-b88401161d29"
      },
      "execution_count": 18,
      "outputs": [
        {
          "output_type": "stream",
          "name": "stdout",
          "text": [
            "       listing_id                                 description        room_type\n",
            "0            2595                       Skylit Midtown Castle  Entire home/apt\n",
            "1            3831             Cozy Entire Floor of Brownstone  Entire home/apt\n",
            "2            5099   Large Cozy 1 BR Apartment In Midtown East  Entire home/apt\n",
            "3            5178             Large Furnished Room Near B'way     private room\n",
            "4            5238          Cute & Cozy Lower East Side 1 bdrm  Entire home/apt\n",
            "...           ...                                         ...              ...\n",
            "25204    36425863  Lovely Privet Bedroom with Privet Restroom     PRIVATE ROOM\n",
            "25205    36427429                    No.2 with queen size bed     PRIVATE ROOM\n",
            "25206    36438336                             Seas The Moment     Private room\n",
            "25207    36442252               1B-1B apartment near by Metro  Entire home/apt\n",
            "25208    36455809     Cozy Private Room in Bushwick, Brooklyn     Private room\n",
            "\n",
            "[25209 rows x 3 columns]\n",
            "<class 'pandas.core.frame.DataFrame'>\n",
            "RangeIndex: 25209 entries, 0 to 25208\n",
            "Data columns (total 3 columns):\n",
            " #   Column       Non-Null Count  Dtype \n",
            "---  ------       --------------  ----- \n",
            " 0   listing_id   25209 non-null  int64 \n",
            " 1   description  25209 non-null  object\n",
            " 2   room_type    25209 non-null  object\n",
            "dtypes: int64(1), object(2)\n",
            "memory usage: 591.0+ KB\n",
            "None\n"
          ]
        },
        {
          "output_type": "execute_result",
          "data": {
            "text/plain": [
              "listing_id     0\n",
              "description    0\n",
              "room_type      0\n",
              "dtype: int64"
            ]
          },
          "metadata": {},
          "execution_count": 18
        }
      ]
    },
    {
      "cell_type": "code",
      "source": [
        "# menangani missing value pada df_last_review kolom host_name yang memuat nama tuan rumah dari listing\n",
        "\n",
        "# Menggantikan nilai yang hilang dengan nilai default (misalnya, 'No hostname available')\n",
        "df_last_review['host_name'].fillna('No hostname available', inplace=True)\n",
        "# Menampilkan DataFrame setelah penggantian nilai yang hilang\n",
        "print(df_last_review)\n",
        "# Menampilkan informasi DataFrame setelah penggantian nilai yang hilang\n",
        "print(df_last_review.info())\n",
        "df_last_review.isna().sum()"
      ],
      "metadata": {
        "id": "GpbnclXhj1zR",
        "colab": {
          "base_uri": "https://localhost:8080/"
        },
        "outputId": "4535984b-9cbc-401a-ffd7-163090b61d1a"
      },
      "execution_count": 19,
      "outputs": [
        {
          "output_type": "stream",
          "name": "stdout",
          "text": [
            "       listing_id    host_name   last_review\n",
            "0            2595     Jennifer   May 21 2019\n",
            "1            3831  LisaRoxanne  July 05 2019\n",
            "2            5099        Chris  June 22 2019\n",
            "3            5178     Shunichi  June 24 2019\n",
            "4            5238          Ben  June 09 2019\n",
            "...           ...          ...           ...\n",
            "25204    36425863        Rusaa  July 07 2019\n",
            "25205    36427429         H Ai  July 07 2019\n",
            "25206    36438336          Ben  July 07 2019\n",
            "25207    36442252       Blaine  July 07 2019\n",
            "25208    36455809    Christine  July 08 2019\n",
            "\n",
            "[25209 rows x 3 columns]\n",
            "<class 'pandas.core.frame.DataFrame'>\n",
            "RangeIndex: 25209 entries, 0 to 25208\n",
            "Data columns (total 3 columns):\n",
            " #   Column       Non-Null Count  Dtype \n",
            "---  ------       --------------  ----- \n",
            " 0   listing_id   25209 non-null  int64 \n",
            " 1   host_name    25209 non-null  object\n",
            " 2   last_review  25209 non-null  object\n",
            "dtypes: int64(1), object(2)\n",
            "memory usage: 591.0+ KB\n",
            "None\n"
          ]
        },
        {
          "output_type": "execute_result",
          "data": {
            "text/plain": [
              "listing_id     0\n",
              "host_name      0\n",
              "last_review    0\n",
              "dtype: int64"
            ]
          },
          "metadata": {},
          "execution_count": 19
        }
      ]
    },
    {
      "cell_type": "code",
      "source": [
        "# Perbaiki konsistensi dalam penulisan jenis kamar\n",
        "df_room_type['room_type'] = df_room_type['room_type'].str.lower()\n",
        "\n",
        "# Tampilkan DataFrame setelah perbaikan\n",
        "print(df_room_type.head())\n"
      ],
      "metadata": {
        "colab": {
          "base_uri": "https://localhost:8080/"
        },
        "id": "31ZDZ102_bON",
        "outputId": "88feaebb-9971-484e-d228-4992153eba58"
      },
      "execution_count": 20,
      "outputs": [
        {
          "output_type": "stream",
          "name": "stdout",
          "text": [
            "   listing_id                                description        room_type\n",
            "0        2595                      Skylit Midtown Castle  entire home/apt\n",
            "1        3831            Cozy Entire Floor of Brownstone  entire home/apt\n",
            "2        5099  Large Cozy 1 BR Apartment In Midtown East  entire home/apt\n",
            "3        5178            Large Furnished Room Near B'way     private room\n",
            "4        5238         Cute & Cozy Lower East Side 1 bdrm  entire home/apt\n"
          ]
        }
      ]
    },
    {
      "cell_type": "markdown",
      "source": [
        "# 2. Eksplorasi Data (EDA)\n"
      ],
      "metadata": {
        "id": "0ptJALXLFy5R"
      }
    },
    {
      "cell_type": "markdown",
      "source": [
        "Tahapan yang akan dilakukan untuk menjawab pertanyaan bisnis yang telah disiapkan adalah:\n",
        "1. **Analisis Harga:**\n",
        "    - Statistik deskriptif per lingkungan menggunakan data dari file **`airbnb_price.csv`**.\n",
        "    - Menampilkan harga tertinggi dan terendah di 5 lokasi.\n",
        "2. **Analisis Jenis Kamar:**\n",
        "    - Gunakan data dari file **`airbnb_room_type.xlsx`** untuk menghitung jumlah iklan yang memiliki kamar pribadi.\n",
        "3. **Perbandingan dengan Pasar Sewa Swasta:**\n",
        "    - Bandingkan rata-rata harga Airbnb per bulan dengan data harga sewa swasta (jika tersedia).\n",
        "4. **Analisis Harga berdasarkan Wilayah:**\n",
        "    - Identifikasi wilayah dari setiap listing menggunakan data dari **`airbnb_price.csv`**.\n",
        "    - Hitung rata-rata harga Airbnb untuk setiap wilayah."
      ],
      "metadata": {
        "id": "SJHuvvShKPiD"
      }
    },
    {
      "cell_type": "code",
      "source": [
        "# Gabungkan dataset berdasarkan kolom 'listing_id'\n",
        "merged_df = pd.merge(df_price, df_room_type, on='listing_id')\n",
        "merged_df = pd.merge(merged_df, df_last_review, on='listing_id')\n",
        "\n",
        "# Tampilkan hasil gabungan\n",
        "print(merged_df.head())"
      ],
      "metadata": {
        "colab": {
          "base_uri": "https://localhost:8080/"
        },
        "id": "oC8Zk2RuD3qh",
        "outputId": "14190eb7-a210-49ea-d559-a4360a776116"
      },
      "execution_count": 21,
      "outputs": [
        {
          "output_type": "stream",
          "name": "stdout",
          "text": [
            "   listing_id  price                nbhood_full  \\\n",
            "0        2595  225.0         Manhattan, Midtown   \n",
            "1        3831   89.0     Brooklyn, Clinton Hill   \n",
            "2        5099  200.0     Manhattan, Murray Hill   \n",
            "3        5178   79.0  Manhattan, Hell's Kitchen   \n",
            "4        5238  150.0       Manhattan, Chinatown   \n",
            "\n",
            "                                 description        room_type    host_name  \\\n",
            "0                      Skylit Midtown Castle  entire home/apt     Jennifer   \n",
            "1            Cozy Entire Floor of Brownstone  entire home/apt  LisaRoxanne   \n",
            "2  Large Cozy 1 BR Apartment In Midtown East  entire home/apt        Chris   \n",
            "3            Large Furnished Room Near B'way     private room     Shunichi   \n",
            "4         Cute & Cozy Lower East Side 1 bdrm  entire home/apt          Ben   \n",
            "\n",
            "    last_review  \n",
            "0   May 21 2019  \n",
            "1  July 05 2019  \n",
            "2  June 22 2019  \n",
            "3  June 24 2019  \n",
            "4  June 09 2019  \n"
          ]
        }
      ]
    },
    {
      "cell_type": "code",
      "source": [
        "# Memisahkan kolom 'nbhood_full' menjadi dua kolom baru 'borough' dan 'neighborhood'\n",
        "merged_df[['borough', 'neighborhood']] = merged_df['nbhood_full'].str.split(', ', 1, expand=True)\n",
        "\n",
        "# Menghapus kolom 'nbhood_full'\n",
        "merged_df = merged_df.drop('nbhood_full', axis=1)\n",
        "\n",
        "# Menampilkan hasil setelah pemisahaan dan penghapusan\n",
        "print(merged_df.head())\n"
      ],
      "metadata": {
        "colab": {
          "base_uri": "https://localhost:8080/"
        },
        "id": "gW6ikaxOEzhf",
        "outputId": "9da21048-6e30-4f13-e0a3-a393253323cb"
      },
      "execution_count": 22,
      "outputs": [
        {
          "output_type": "stream",
          "name": "stderr",
          "text": [
            "<ipython-input-22-b36652e6c738>:2: FutureWarning: In a future version of pandas all arguments of StringMethods.split except for the argument 'pat' will be keyword-only.\n",
            "  merged_df[['borough', 'neighborhood']] = merged_df['nbhood_full'].str.split(', ', 1, expand=True)\n"
          ]
        },
        {
          "output_type": "stream",
          "name": "stdout",
          "text": [
            "   listing_id  price                                description  \\\n",
            "0        2595  225.0                      Skylit Midtown Castle   \n",
            "1        3831   89.0            Cozy Entire Floor of Brownstone   \n",
            "2        5099  200.0  Large Cozy 1 BR Apartment In Midtown East   \n",
            "3        5178   79.0            Large Furnished Room Near B'way   \n",
            "4        5238  150.0         Cute & Cozy Lower East Side 1 bdrm   \n",
            "\n",
            "         room_type    host_name   last_review    borough    neighborhood  \n",
            "0  entire home/apt     Jennifer   May 21 2019  Manhattan         Midtown  \n",
            "1  entire home/apt  LisaRoxanne  July 05 2019   Brooklyn    Clinton Hill  \n",
            "2  entire home/apt        Chris  June 22 2019  Manhattan     Murray Hill  \n",
            "3     private room     Shunichi  June 24 2019  Manhattan  Hell's Kitchen  \n",
            "4  entire home/apt          Ben  June 09 2019  Manhattan       Chinatown  \n"
          ]
        }
      ]
    },
    {
      "cell_type": "markdown",
      "source": [
        "## 1. Bagaimana rata-rata harga per malam berdasarkan wilayah dan jenis kamar?"
      ],
      "metadata": {
        "id": "fbNhj6r32xev"
      }
    },
    {
      "cell_type": "code",
      "source": [
        "# Menghitung statistik deskriptif untuk distribusi harga per malam di setiap wilayah\n",
        "price_distribution_by_borough = merged_df.groupby('borough')['price'].describe()\n",
        "\n",
        "# Menampilkan hasil\n",
        "print(price_distribution_by_borough)\n"
      ],
      "metadata": {
        "colab": {
          "base_uri": "https://localhost:8080/"
        },
        "id": "_WSjxhDHFN4i",
        "outputId": "bfcb4019-970e-4aa4-8235-9ae6f0965c76"
      },
      "execution_count": 23,
      "outputs": [
        {
          "output_type": "stream",
          "name": "stdout",
          "text": [
            "                 count        mean         std   min   25%    50%    75%  \\\n",
            "borough                                                                    \n",
            "Bronx            698.0   79.127507   58.087053   0.0  45.0   65.0   95.0   \n",
            "Brooklyn       10466.0  121.904739  123.957822   0.0  63.0   95.0  150.0   \n",
            "Manhattan      10322.0  184.000678  178.181024  10.0  95.0  149.0  215.0   \n",
            "Queens          3456.0   92.813947   78.514658  10.0  50.0   70.0  109.0   \n",
            "Staten Island    267.0   86.044944   54.624606  13.0  50.0   71.0  105.0   \n",
            "\n",
            "                  max  \n",
            "borough                \n",
            "Bronx           670.0  \n",
            "Brooklyn       7500.0  \n",
            "Manhattan      5100.0  \n",
            "Queens         2600.0  \n",
            "Staten Island   300.0  \n"
          ]
        }
      ]
    },
    {
      "cell_type": "code",
      "source": [
        "# Menghitung rata-rata harga per malam berdasarkan wilayah dan jenis kamar\n",
        "average_price_by_borough_and_room_type = merged_df.groupby(['borough', 'room_type'])['price'].mean()\n",
        "\n",
        "# Menampilkan hasil\n",
        "print(average_price_by_borough_and_room_type)\n"
      ],
      "metadata": {
        "colab": {
          "base_uri": "https://localhost:8080/"
        },
        "id": "52TAUciU6Fn-",
        "outputId": "fe0da98e-595c-492a-98ae-684e1e3f200e"
      },
      "execution_count": 24,
      "outputs": [
        {
          "output_type": "stream",
          "name": "stdout",
          "text": [
            "borough        room_type      \n",
            "Bronx          entire home/apt    120.517241\n",
            "               private room        56.153465\n",
            "               shared room         33.030303\n",
            "Brooklyn       entire home/apt    169.903671\n",
            "               private room        72.629328\n",
            "               shared room         39.005291\n",
            "Manhattan      entire home/apt    238.024473\n",
            "               private room       105.698795\n",
            "               shared room         72.960159\n",
            "Queens         entire home/apt    140.931086\n",
            "               private room        63.741165\n",
            "               shared room         40.767857\n",
            "Staten Island  entire home/apt    116.774436\n",
            "               private room        56.060606\n",
            "               shared room         21.500000\n",
            "Name: price, dtype: float64\n"
          ]
        }
      ]
    },
    {
      "cell_type": "markdown",
      "source": [
        "## 2. Bagaimana perbandingan tuan rumah berdasarkan lokasi?"
      ],
      "metadata": {
        "id": "Mus6UdpoEA34"
      }
    },
    {
      "cell_type": "code",
      "source": [
        "# Menghitung jumlah tuan rumah unik di setiap wilayah\n",
        "unique_hosts_by_borough = merged_df.groupby('borough')['host_name'].nunique()\n",
        "\n",
        "# Menampilkan hasil\n",
        "print(unique_hosts_by_borough)\n"
      ],
      "metadata": {
        "colab": {
          "base_uri": "https://localhost:8080/"
        },
        "id": "F5V5z2hcFPKW",
        "outputId": "9e100cbf-27d7-46e4-83b1-64df8d6e70b1"
      },
      "execution_count": 25,
      "outputs": [
        {
          "output_type": "stream",
          "name": "stdout",
          "text": [
            "borough\n",
            "Bronx             435\n",
            "Brooklyn         3851\n",
            "Manhattan        3643\n",
            "Queens           1630\n",
            "Staten Island     166\n",
            "Name: host_name, dtype: int64\n"
          ]
        }
      ]
    },
    {
      "cell_type": "code",
      "source": [
        "# Menemukan 10 tuan rumah dengan jumlah listing terbanyak\n",
        "top_hosts = merged_df['host_name'].value_counts().nlargest(10)\n",
        "\n",
        "# Menampilkan hasil\n",
        "print(\"10 tuan rumah dengan jumlah listing terbanyak:\")\n",
        "print(top_hosts)\n"
      ],
      "metadata": {
        "colab": {
          "base_uri": "https://localhost:8080/"
        },
        "id": "ijmf2ZDOCqbx",
        "outputId": "682a69c0-f5c7-4797-81cb-3e1d4c9d233f"
      },
      "execution_count": 26,
      "outputs": [
        {
          "output_type": "stream",
          "name": "stdout",
          "text": [
            "10 tuan rumah dengan jumlah listing terbanyak:\n",
            "Michael         215\n",
            "Sonder (NYC)    207\n",
            "David           197\n",
            "John            177\n",
            "Alex            153\n",
            "Maria           122\n",
            "Melissa         110\n",
            "Daniel          103\n",
            "Anna            103\n",
            "Chris            94\n",
            "Name: host_name, dtype: int64\n"
          ]
        }
      ]
    },
    {
      "cell_type": "markdown",
      "source": [
        "## 3. Bagaimana perbandingan jumlah tuan rumah yang memiliki listing di lebih dari satu wilayah?"
      ],
      "metadata": {
        "id": "DZlOTl8Gg-Pp"
      }
    },
    {
      "cell_type": "code",
      "source": [
        "# Filter tuan rumah yang memiliki listing di 2, 3, 4, atau 5 wilayah\n",
        "hosts_with_listings_in_multiple_boroughs = hosts_by_borough[hosts_by_borough.isin([2, 3, 4, 5])]\n",
        "\n",
        "# Tampilkan hasil\n",
        "print(\"Tuan rumah yang memiliki listing di 2, 3, 4, atau 5 wilayah:\")\n",
        "print(hosts_with_listings_in_multiple_boroughs)"
      ],
      "metadata": {
        "colab": {
          "base_uri": "https://localhost:8080/"
        },
        "id": "uIl7wSCRL-_4",
        "outputId": "d8e149b0-7afb-4e34-cb8d-f7ed127b4d54"
      },
      "execution_count": 34,
      "outputs": [
        {
          "output_type": "stream",
          "name": "stdout",
          "text": [
            "Tuan rumah yang memiliki listing di 2, 3, 4, atau 5 wilayah:\n",
            "host_name\n",
            "A            3\n",
            "A. Kaylee    2\n",
            "A.J.         2\n",
            "Aamir        2\n",
            "Aaron        2\n",
            "            ..\n",
            "Zara         2\n",
            "Zhenya       2\n",
            "Zoe          3\n",
            "Zoey         2\n",
            "Zoraida      2\n",
            "Name: borough, Length: 1542, dtype: int64\n"
          ]
        }
      ]
    },
    {
      "cell_type": "markdown",
      "source": [
        "## 4. Siapa tuan rumah yang memiliki jumlah listing terbanyak berdasarkan wilayah?"
      ],
      "metadata": {
        "id": "QvSvOaFAjLM7"
      }
    },
    {
      "cell_type": "code",
      "source": [
        "# Menemukan 5 tuan rumah dengan jumlah listing terbanyak berdasarkan wilayah\n",
        "top_hosts_by_borough = merged_df.groupby('borough')['host_name'].apply(lambda x: x.value_counts().nlargest(5))\n",
        "\n",
        "# Menampilkan hasil\n",
        "print(\"5 tuan rumah dengan jumlah listing terbanyak berdasarkan wilayah:\")\n",
        "print(top_hosts_by_borough)\n"
      ],
      "metadata": {
        "colab": {
          "base_uri": "https://localhost:8080/"
        },
        "id": "Ydw4NPm2DO_6",
        "outputId": "af83ee8e-c5e2-41b3-d8c4-86d9828b3256"
      },
      "execution_count": 30,
      "outputs": [
        {
          "output_type": "stream",
          "name": "stdout",
          "text": [
            "5 tuan rumah dengan jumlah listing terbanyak berdasarkan wilayah:\n",
            "borough                    \n",
            "Bronx          Vie              10\n",
            "               Orit              8\n",
            "               Rem               7\n",
            "               Carol             7\n",
            "               Monica            6\n",
            "Brooklyn       Melissa          81\n",
            "               Michael          75\n",
            "               David            68\n",
            "               Alex             64\n",
            "               John             64\n",
            "Manhattan      Sonder (NYC)    207\n",
            "               Michael         117\n",
            "               David            98\n",
            "               John             90\n",
            "               Alex             77\n",
            "Queens         Kazuya           36\n",
            "               David            26\n",
            "               Maria            20\n",
            "               Carlos           19\n",
            "               John             19\n",
            "Staten Island  Maria             7\n",
            "               Amarjit S         7\n",
            "               Simranjeet        7\n",
            "               Faye              6\n",
            "               Lissette          6\n",
            "Name: host_name, dtype: int64\n"
          ]
        }
      ]
    },
    {
      "cell_type": "markdown",
      "source": [
        "# 3. Visualisasi Data\n"
      ],
      "metadata": {
        "id": "iqw_GbZmFzQm"
      }
    },
    {
      "cell_type": "markdown",
      "source": [
        "Tahapan yang akan dilakukan untuk membuat visualisai dari EDA adalah:\n",
        "1. Visualisasi perbandingan harga rata-rata tertinggi dan terendah di 5 lokasi.\n",
        "2. **Visualisasi Jenis Kamar:**\n",
        "    - Gunakan diagram batang atau pie chart untuk memvisualisasikan jumlah iklan yang memiliki kamar pribadi.\n",
        "3. **Perbandingan dengan Pasar Sewa Swasta:**\n",
        "    - Gunakan grafik untuk membandingkan harga rata-rata Airbnb per bulan dengan harga sewa swasta.\n",
        "4. **Visualisasi Perbandingan Harga berdasarkan Wilayah:**\n",
        "    - Gunakan peta atau grafik lainnya untuk membandingkan rata-rata harga Airbnb di lima wilayah di NYC."
      ],
      "metadata": {
        "id": "uFQ5QDqLKQFn"
      }
    },
    {
      "cell_type": "markdown",
      "source": [
        "## 1. Rata-rata harga per malam berdasarkan wilayah dan jenis kamar"
      ],
      "metadata": {
        "id": "AQCnrH9bNLyX"
      }
    },
    {
      "cell_type": "code",
      "source": [
        "# Konfigurasi plot\n",
        "plt.figure(figsize=(14, 8))\n",
        "sns.barplot(x='price', y='room_type', hue='borough', data=merged_df, ci=None)\n",
        "plt.title('Rata-rata Harga Sewa per Malam Berdasarkan Wilayah dan Jenis Kamar')\n",
        "plt.xlabel('Rata-rata Harga Sewa per Malam (USD)')\n",
        "plt.ylabel('Jenis Kamar')\n",
        "plt.legend(title='Wilayah (Borough)')\n",
        "plt.show()\n"
      ],
      "metadata": {
        "colab": {
          "base_uri": "https://localhost:8080/",
          "height": 748
        },
        "id": "A6cUXEATHoSp",
        "outputId": "9f503e9f-812e-43e0-ad2b-c99ef6451dde"
      },
      "execution_count": 38,
      "outputs": [
        {
          "output_type": "stream",
          "name": "stderr",
          "text": [
            "<ipython-input-38-7d5ded073067>:3: FutureWarning: \n",
            "\n",
            "The `ci` parameter is deprecated. Use `errorbar=None` for the same effect.\n",
            "\n",
            "  sns.barplot(x='price', y='room_type', hue='borough', data=merged_df, ci=None)\n"
          ]
        },
        {
          "output_type": "display_data",
          "data": {
            "text/plain": [
              "<Figure size 1400x800 with 1 Axes>"
            ],
            "image/png": "[encoded data removed]"
          },
          "metadata": {}
        }
      ]
    },
    {
      "cell_type": "markdown",
      "source": [
        "## 2. 10 tuan rumah dengan jumlah listing terbanyak disemua wilayah"
      ],
      "metadata": {
        "id": "_p3AYpjmM-1Z"
      }
    },
    {
      "cell_type": "code",
      "source": [
        "# Set style for better aesthetics (optional)\n",
        "sns.set(style=\"whitegrid\")\n",
        "\n",
        "# Plotting the top hosts\n",
        "plt.figure(figsize=(12, 6))\n",
        "sns.barplot(x=top_hosts.values, y=top_hosts.index, palette=\"viridis\")\n",
        "\n",
        "# Adding labels and title\n",
        "plt.xlabel('Jumlah Listing')\n",
        "plt.ylabel('Nama Tuan Rumah')\n",
        "plt.title('Top 10 Tuan Rumah dengan Jumlah Listing Terbanyak')\n",
        "\n",
        "# Show the plot\n",
        "plt.show()"
      ],
      "metadata": {
        "colab": {
          "base_uri": "https://localhost:8080/",
          "height": 573
        },
        "id": "ZpxEB0oPMinZ",
        "outputId": "02b37f42-1860-44dc-fcf7-861660f3b895"
      },
      "execution_count": 39,
      "outputs": [
        {
          "output_type": "display_data",
          "data": {
            "text/plain": [
              "<Figure size 1200x600 with 1 Axes>"
            ],
            "image/png": "[encoded data removed]"
          },
          "metadata": {}
        }
      ]
    },
    {
      "cell_type": "markdown",
      "source": [
        "## 3. Tuan rumah yang memiliki lebih listing lebih dari satu wilayah"
      ],
      "metadata": {
        "id": "doFHuDGNkVao"
      }
    },
    {
      "cell_type": "code",
      "source": [
        "# Filter tuan rumah yang memiliki listing di 2, 3, 4, atau 5 wilayah\n",
        "hosts_with_listings_in_multiple_boroughs = hosts_by_borough[hosts_by_borough.isin([2, 3, 4, 5])]\n",
        "\n",
        "# Konfigurasi plot\n",
        "plt.figure(figsize=(10, 6))\n",
        "sns.countplot(x=hosts_with_listings_in_multiple_boroughs, palette='viridis')\n",
        "plt.title('Jumlah Tuan Rumah yang Memiliki Listing di Wilayah Lain')\n",
        "plt.xlabel('Jumlah Wilayah yang Dimiliki oleh Tuan Rumah')\n",
        "plt.ylabel('Jumlah Tuan Rumah')\n",
        "plt.show()"
      ],
      "metadata": {
        "colab": {
          "base_uri": "https://localhost:8080/",
          "height": 573
        },
        "id": "nr0xCsHrijwr",
        "outputId": "f7560e3f-f7eb-4740-8961-5392d8928a44"
      },
      "execution_count": 40,
      "outputs": [
        {
          "output_type": "display_data",
          "data": {
            "text/plain": [
              "<Figure size 1000x600 with 1 Axes>"
            ],
            "image/png": "[encoded data removed]"
          },
          "metadata": {}
        }
      ]
    },
    {
      "cell_type": "markdown",
      "source": [
        "## 4. 5 tuan rumah dengan jumlah listing terbanyak berdasarkan wilayah"
      ],
      "metadata": {
        "id": "zV8bRaZYlfhk"
      }
    },
    {
      "cell_type": "code",
      "source": [
        "# Reset indeks agar kolom borough dapat digunakan dalam visualisasi\n",
        "top_hosts_by_borough = top_hosts_by_borough.reset_index()\n",
        "\n",
        "# Konfigurasi plot\n",
        "plt.figure(figsize=(12, 8))\n",
        "sns.barplot(x='host_name', y='level_1', hue='borough', data=top_hosts_by_borough, palette='viridis')\n",
        "plt.title('5 Tuan Rumah dengan Jumlah Listing Terbanyak Berdasarkan Wilayah')\n",
        "plt.xlabel('Jumlah Listing')\n",
        "plt.ylabel('Tuan Rumah')\n",
        "plt.legend(title='Wilayah', bbox_to_anchor=(1, 1))\n",
        "plt.show()"
      ],
      "metadata": {
        "colab": {
          "base_uri": "https://localhost:8080/",
          "height": 785
        },
        "id": "iIZv0VLOk3cb",
        "outputId": "80fc4fa2-df81-4ffa-bffc-464c788444ee"
      },
      "execution_count": 41,
      "outputs": [
        {
          "output_type": "display_data",
          "data": {
            "text/plain": [
              "<Figure size 1200x800 with 1 Axes>"
            ],
            "image/png": "[encoded data removed]"
          },
          "metadata": {}
        }
      ]
    },
    {
      "cell_type": "markdown",
      "source": [
        "# 4. Kesimpulan dan Interpretasi"
      ],
      "metadata": {
        "id": "_mTYkMWFKayq"
      }
    },
    {
      "cell_type": "markdown",
      "source": [
        "Tahap terakhir adalah membuat kesimpulan dan interpretasi dari tahap-tahap yang telah dilakukan.\n",
        "\n",
        "- Ringkas temuan-temuan penting dari analisis dan visualisasi.\n",
        "- Buat kesimpulan terkait pertanyaan-pertanyaan yang diajukan.\n",
        "- Sarankan langkah-langkah atau kebijakan berdasarkan hasil analisis."
      ],
      "metadata": {
        "id": "F0FAAYYKKdMJ"
      }
    },
    {
      "cell_type": "markdown",
      "source": [
        "## 1. Rata-rata harga per malam berdasarkan wilayah dan jenis kamar\n",
        "\n",
        "Analisis rata-rata harga per malam menurut wilayah (borough) dan jenis kamar di New York City menghasilkan temuan yang menarik. Di Bronx, harga rata-rata per malam bervariasi, dengan entire home/apartment sekitar $120.52, private room sekitar $56.15, dan shared room sekitar $33.03. Brooklyn menunjukkan tren serupa, dengan entire home/apartment mencapai $169.90, private room $72.63, dan shared room $39.01 per malam. Sementara itu, Manhattan memiliki harga tertinggi, khususnya untuk entire home/apartment ($238.02) dan private room ($105.70), sementara shared room mencapai $72.96 per malam. Queens menawarkan harga yang lebih terjangkau dengan entire home/apartment sekitar $140.93, private room $63.74, dan shared room $40.77 per malam. Staten Island menunjukkan angka yang relatif rendah, dengan entire home/apartment sekitar $116.77, private room $56.06, dan shared room $21.50 per malam. Temuan ini memberikan wawasan yang berguna bagi calon penyewa atau pemilik properti untuk memahami dinamika harga di berbagai wilayah dan jenis kamar di kota tersebut."
      ],
      "metadata": {
        "id": "PsULFaOLmyRi"
      }
    },
    {
      "cell_type": "markdown",
      "source": [
        "## 2. 10 tuan rumah dengan jumlah listing terbanyak disemua wilayah\n",
        "\n",
        "uan rumah paling produktif adalah Michael, yang memiliki mencengangkan 215 listing, diikuti oleh Sonder (NYC) dengan 207 listing. David menduduki peringkat ketiga dengan 197 listing, diikuti oleh John dengan 177 listing. Alex, Maria, Melissa, dan Daniel juga mencatatkan angka yang signifikan, masing-masing dengan 153, 122, 110, dan 103 listing. Anna dan Chris melengkapi daftar sepuluh besar dengan masing-masing 103 dan 94 listing. Informasi ini memberikan gambaran tentang kegiatan penyewaan yang tinggi dan dominasi sejumlah tuan rumah di pasar sewa kota tersebut."
      ],
      "metadata": {
        "id": "-It65q6Bmrlf"
      }
    },
    {
      "cell_type": "markdown",
      "source": [
        "## 3. Tuan rumah yang memiliki lebih listing lebih dari satu wilayah\n",
        "\n",
        "Analisis data menunjukkan hasil menarik terkait tuan rumah yang memiliki lebih dari satu listing di wilayah New York City. Ternyata, tuan rumah yang memiliki listing di dua wilayah menempati peringkat pertama dalam jumlah terbanyak. Temuan ini menunjukkan adanya dominasi dari tuan rumah yang aktif beroperasi di lebih dari satu wilayah. Selanjutnya, pola penurunan terlihat secara bertahap pada tuan rumah dengan listing di 3 wilayah, 4 wilayah, dan 5 wilayah, menunjukkan semakin sedikitnya tuan rumah yang beroperasi di jumlah wilayah yang lebih besar. Hal ini memberikan gambaran dinamika distribusi listing di berbagai wilayah, dengan tuan rumah yang berfokus pada wilayah tertentu dan sebagian kecil yang memperluas jangkauan mereka ke lebih banyak wilayah.\n",
        "\n",
        "\n",
        "\n",
        "\n",
        "\n"
      ],
      "metadata": {
        "id": "RHwMsXKXmm3Y"
      }
    },
    {
      "cell_type": "markdown",
      "source": [
        "## 4. 5 tuan rumah dengan jumlah listing terbanyak berdasarkan wilayah\n",
        "\n",
        "Dalam dataset Airbnb yang dianalisis, terdapat beberapa tuan rumah yang berhasil melakukan diversifikasi bisnis dengan menyediakan listing di lebih dari satu wilayah di New York City. Contohnya, tuan rumah seperti Michael, David, dan Alex memiliki listing yang tersebar di beberapa wilayah, seperti Brooklyn dan Manhattan. Diversifikasi ini dapat diartikan sebagai strategi untuk mengakomodasi variasi permintaan dan kebutuhan pelanggan di berbagai lokasi. Tuan rumah yang berhasil melakukan diversifikasi mungkin dapat memitigasi risiko dan meningkatkan stabilitas pendapatan mereka. Hal ini juga dapat mencerminkan kemampuan mereka untuk beradaptasi dengan dinamika pasar yang berbeda di setiap wilayah. Kesuksesan diversifikasi bisnis dalam industri sewa Airbnb dapat tercermin dalam portofolio listing yang luas dan penyebaran geografis yang melibatkan berbagai wilayah di kota tersebut."
      ],
      "metadata": {
        "id": "vdiHlb5dmIZP"
      }
    },
    {
      "cell_type": "markdown",
      "source": [
        "Penutup\n",
        "\n",
        "Berdasarkan empat temuan kunci yang dianalisis, terdapat beberapa saran bisnis yang dapat diambil untuk meningkatkan kinerja dan fleksibilitas dalam industri sewa properti di New York City:\n",
        "\n",
        "Penyesuaian Harga Berdasarkan Wilayah dan Jenis Kamar:\n",
        "\n",
        "Untuk menarik lebih banyak penyewa dan meningkatkan daya saing, pertimbangkan untuk menyesuaikan harga sewa berdasarkan wilayah dan jenis kamar. Perhatikan pola harga yang terlihat, seperti harga yang lebih tinggi di Manhattan dan lebih rendah di Queens atau Staten Island. Ini dapat membantu menyesuaikan strategi harga sesuai dengan permintaan dan profil pelanggan di masing-masing wilayah.\n",
        "Kolaborasi dengan Tuan Rumah Produktif:\n",
        "\n",
        "Jalin kerjasama dengan tuan rumah yang produktif, seperti Michael, Sonder (NYC), dan David, untuk meningkatkan visibilitas dan pertumbuhan bisnis. Kerjasama dapat melibatkan penawaran khusus, promosi bersama, atau pengembangan strategi pemasaran yang lebih efektif.\n",
        "Fokus pada Diversifikasi Geografis:\n",
        "\n",
        "Untuk meningkatkan potensi pendapatan, pertimbangkan untuk memperluas jangkauan bisnis ke beberapa wilayah. Diversifikasi geografis, seperti yang dilakukan oleh beberapa tuan rumah yang memiliki listing di lebih dari satu wilayah, dapat membantu mengurangi risiko dan meningkatkan adaptasi terhadap perubahan permintaan pasar.\n",
        "Analisis dan Strategi Berdasarkan Jumlah Listing:\n",
        "\n",
        "Tuan rumah dengan jumlah listing tinggi seperti Michael, Sonder (NYC), dan David mungkin memiliki strategi yang sukses. Pelajari praktik terbaik dan strategi yang mereka terapkan untuk memperoleh dan mempertahankan jumlah listing yang signifikan. Kemungkinan adanya manfaat dari strategi pemasaran, layanan pelanggan, atau manajemen properti yang efektif.\n",
        "Melalui penerapan saran-saran ini, diharapkan pemilik properti atau calon tuan rumah dapat meningkatkan daya saing, mengoptimalkan potensi pendapatan, dan menyesuaikan bisnis mereka dengan dinamika pasar yang berbeda di setiap wilayah New York City."
      ],
      "metadata": {
        "id": "DUGdEE5Sqe1c"
      }
    }
  ]
}